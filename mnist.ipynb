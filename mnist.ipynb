{
  "nbformat": 4,
  "nbformat_minor": 0,
  "metadata": {
    "colab": {
      "name": "mnist",
      "version": "0.3.2",
      "views": {},
      "default_view": {},
      "provenance": [],
      "collapsed_sections": []
    },
    "kernelspec": {
      "name": "python3",
      "display_name": "Python 3"
    },
    "accelerator": "GPU"
  },
  "cells": [
    {
      "metadata": {
        "id": "u1USGW6_tJfy",
        "colab_type": "code",
        "colab": {
          "autoexec": {
            "startup": false,
            "wait_interval": 0
          }
        }
      },
      "cell_type": "code",
      "source": [
        "import tensorflow as tf\n",
        "import numpy as np\n",
        "import matplotlib.pyplot as plt\n",
        "%matplotlib inline\n",
        "from tensorflow.examples.tutorials.mnist import input_data\n",
        "from tqdm import tqdm"
      ],
      "execution_count": 0,
      "outputs": []
    },
    {
      "metadata": {
        "id": "ez9DepKytMap",
        "colab_type": "code",
        "colab": {
          "autoexec": {
            "startup": false,
            "wait_interval": 0
          }
        }
      },
      "cell_type": "code",
      "source": [
        "mnist = input_data.read_data_sets(\"MNIST_data/\", one_hot=True)"
      ],
      "execution_count": 0,
      "outputs": []
    },
    {
      "metadata": {
        "id": "g67yOX4ktOYk",
        "colab_type": "code",
        "colab": {
          "autoexec": {
            "startup": false,
            "wait_interval": 0
          },
          "base_uri": "https://localhost:8080/",
          "height": 88
        },
        "outputId": "6c914b71-283f-4adc-99ab-5b3013197f2f",
        "executionInfo": {
          "status": "ok",
          "timestamp": 1531851617058,
          "user_tz": -330,
          "elapsed": 644,
          "user": {
            "displayName": "Ankur Bhatia",
            "photoUrl": "//lh5.googleusercontent.com/-jbba_wvMXjo/AAAAAAAAAAI/AAAAAAAAAjg/s0jV9VTrHmI/s50-c-k-no/photo.jpg",
            "userId": "114251375945560531761"
          }
        }
      },
      "cell_type": "code",
      "source": [
        "#printing shapes of the train and test set\n",
        "print(mnist.train.images.shape)\n",
        "print(mnist.train.labels.shape)\n",
        "print(mnist.test.images.shape)\n",
        "print(mnist.test.labels.shape)"
      ],
      "execution_count": 5,
      "outputs": [
        {
          "output_type": "stream",
          "text": [
            "(55000, 784)\n",
            "(55000, 10)\n",
            "(10000, 784)\n",
            "(10000, 10)\n"
          ],
          "name": "stdout"
        }
      ]
    },
    {
      "metadata": {
        "id": "tfnzHvgJtQS6",
        "colab_type": "code",
        "colab": {
          "autoexec": {
            "startup": false,
            "wait_interval": 0
          },
          "base_uri": "https://localhost:8080/",
          "height": 283
        },
        "outputId": "29e1c304-d8c9-4bc1-82cd-25029a5da653",
        "executionInfo": {
          "status": "ok",
          "timestamp": 1531851631963,
          "user_tz": -330,
          "elapsed": 917,
          "user": {
            "displayName": "Ankur Bhatia",
            "photoUrl": "//lh5.googleusercontent.com/-jbba_wvMXjo/AAAAAAAAAAI/AAAAAAAAAjg/s0jV9VTrHmI/s50-c-k-no/photo.jpg",
            "userId": "114251375945560531761"
          }
        }
      },
      "cell_type": "code",
      "source": [
        "#printing sample image and its corresponding label\n",
        "plt.imshow(np.reshape((mnist.train.images[0]) , (28,28)))\n",
        "plt.show()\n",
        "print(\"Corresponding one hot label of the image \" + str( mnist.train.labels[0]))\n"
      ],
      "execution_count": 7,
      "outputs": [
        {
          "output_type": "display_data",
          "data": {
            "image/png": "[encoded data removed]",
            "text/plain": [
              "<matplotlib.figure.Figure at 0x7f20c2bc2d68>"
            ]
          },
          "metadata": {
            "tags": []
          }
        },
        {
          "output_type": "stream",
          "text": [
            "Corresponding one hot label of the image [0. 0. 0. 0. 0. 0. 0. 1. 0. 0.]\n"
          ],
          "name": "stdout"
        }
      ]
    },
    {
      "metadata": {
        "id": "IOo3H6DRtSlU",
        "colab_type": "code",
        "colab": {
          "autoexec": {
            "startup": false,
            "wait_interval": 0
          }
        }
      },
      "cell_type": "code",
      "source": [
        "image_size = 28\n",
        "labels_size = 10\n",
        "learning_rate = 0.05\n",
        "steps_number = 1000\n",
        "batch_size = 100"
      ],
      "execution_count": 0,
      "outputs": []
    },
    {
      "metadata": {
        "id": "hySvg50Rtauq",
        "colab_type": "code",
        "colab": {
          "autoexec": {
            "startup": false,
            "wait_interval": 0
          }
        }
      },
      "cell_type": "code",
      "source": [
        "# Placeholder is a value that we input when we ask TensorFlow to run a computation.\n",
        "def create_placeholders():\n",
        "    x = tf.placeholder(tf.float32, shape = [None, 784])\n",
        "    y_ = tf.placeholder(tf.float32, shape = [None, 10])\n",
        "    return x , y_"
      ],
      "execution_count": 0,
      "outputs": []
    },
    {
      "metadata": {
        "id": "uSkqC2SXtc2_",
        "colab_type": "code",
        "colab": {
          "autoexec": {
            "startup": false,
            "wait_interval": 0
          }
        }
      },
      "cell_type": "code",
      "source": [
        "#Function for initializing weights\n",
        "def weight_variable(shape, i):\n",
        "    \n",
        "    initial = tf.get_variable(name = \"W\" + str(i)  , shape = shape, initializer = tf.contrib.layers.xavier_initializer())\n",
        "    return initial\n",
        "\n",
        "#Function for bias\n",
        "def bias_variable(shape):\n",
        "    \n",
        "    initial = tf.constant(0.1, shape=shape)\n",
        "    return tf.Variable(initial)    \n",
        "  \n",
        "#Function for convolution with stride = s and same padding!!!!! For example stride = 1 =>[1,1,1,1]\n",
        "def conv2d(x, W, s):\n",
        "     \n",
        "    return tf.nn.conv2d(input = x, filter = W, padding = \"SAME\", strides = s)\n",
        "\n",
        "#Function of max pooling over 2*2 block \n",
        "def max_pooling_2x2(x):\n",
        "    \n",
        "    return tf.nn.max_pool(x, ksize = [1,2,2,1], strides = [1,2,2,1] ,padding = \"SAME\")"
      ],
      "execution_count": 0,
      "outputs": []
    },
    {
      "metadata": {
        "id": "NpSH32sEtkVG",
        "colab_type": "code",
        "colab": {
          "autoexec": {
            "startup": false,
            "wait_interval": 0
          }
        }
      },
      "cell_type": "code",
      "source": [
        "# The architecture is similar to https://www.tensorflow.org/get_started/mnist/pros without applying the batch normalization\n",
        "x, y_ = create_placeholders()\n",
        "\n",
        "# Input layer where single input image shape is (1,784)\n",
        "x_image = tf.reshape(x, [-1,28,28,1])\n",
        "\n",
        "# Convolution layer 1 - 32 x 5 x 5 \n",
        "# Conv -> Relu -> Max_pool\n",
        "W_conv1 = weight_variable([5, 5, 1, 32], 1)\n",
        "b_conv1 = bias_variable([32])\n",
        "x_conv1 = conv2d(x_image, W_conv1, [1,1,1,1]) + b_conv1\n",
        "y1 = tf.nn.relu(x_conv1)\n",
        "x_pool1 = max_pooling_2x2(y1)\n",
        "\n",
        "# Conv layer 2 - 64 x 5 x 5\n",
        "# Conv -> Relu -> Max_pool\n",
        "W_conv2 = weight_variable([5, 5, 32, 64], 2)\n",
        "b_conv2 = bias_variable([64])\n",
        "x_conv2 = conv2d(x_pool1, W_conv2, [1,1,1,1]) + b_conv2\n",
        "y2 = tf.nn.relu(x_conv2)\n",
        "x_pool2 = max_pooling_2x2(y2)\n",
        "\n",
        "# Flatten \n",
        "\n",
        "x_flat = tf.contrib.layers.flatten(x_pool2)  #tf.reshape(x_pool2, [-1, 7 * 7 * 64])\n",
        "\n",
        "# Dense fully connected layer\n",
        "x_fc1 = tf.contrib.layers.fully_connected(x_flat, num_outputs = 1024 , activation_fn= tf.nn.relu )    #Tensorflow here takes care of the bias\n",
        "\n",
        "#Here try 1 without Dropout\n",
        "\n",
        "#Classification Layer\n",
        "y_conv = tf.contrib.layers.fully_connected(x_fc1, num_outputs = 10, activation_fn= None)               #Tensorflow here takes care of the bias"
      ],
      "execution_count": 0,
      "outputs": []
    },
    {
      "metadata": {
        "id": "YyLgs3OBtwvB",
        "colab_type": "code",
        "colab": {
          "autoexec": {
            "startup": false,
            "wait_interval": 0
          }
        }
      },
      "cell_type": "code",
      "source": [
        "# Probabilities output from model\n",
        "y = tf.nn.softmax(y_conv)\n",
        "\n",
        "#compute cost\n",
        "cross_entropy = tf.reduce_mean(tf.nn.softmax_cross_entropy_with_logits(labels = y_, logits=y_conv))\n",
        "#train step\n",
        "train_step = tf.train.AdamOptimizer(1e-4).minimize(cross_entropy)"
      ],
      "execution_count": 0,
      "outputs": []
    },
    {
      "metadata": {
        "id": "3X5q5Yh5t05M",
        "colab_type": "code",
        "colab": {
          "autoexec": {
            "startup": false,
            "wait_interval": 0
          }
        }
      },
      "cell_type": "code",
      "source": [
        "# Test accuracy of model\n",
        "correct_prediction = tf.equal(tf.argmax(y_conv,1), tf.argmax(y_,1))     #Returns the index with the largest value across axes of a tensor.\n",
        "accuracy = tf.reduce_mean(tf.cast(correct_prediction, tf.float32))"
      ],
      "execution_count": 0,
      "outputs": []
    },
    {
      "metadata": {
        "id": "EEgA6oCRvDUM",
        "colab_type": "code",
        "colab": {
          "autoexec": {
            "startup": false,
            "wait_interval": 0
          }
        }
      },
      "cell_type": "code",
      "source": [
        "sess = tf.InteractiveSession()\n",
        "sess.run(tf.global_variables_initializer())"
      ],
      "execution_count": 0,
      "outputs": []
    },
    {
      "metadata": {
        "id": "qqX70vhLvON4",
        "colab_type": "code",
        "colab": {
          "autoexec": {
            "startup": false,
            "wait_interval": 0
          },
          "base_uri": "https://localhost:8080/",
          "height": 124
        },
        "outputId": "cc055a6e-5bbf-4244-df21-174f26be98d7",
        "executionInfo": {
          "status": "ok",
          "timestamp": 1531851685693,
          "user_tz": -330,
          "elapsed": 15368,
          "user": {
            "displayName": "Ankur Bhatia",
            "photoUrl": "//lh5.googleusercontent.com/-jbba_wvMXjo/AAAAAAAAAAI/AAAAAAAAAjg/s0jV9VTrHmI/s50-c-k-no/photo.jpg",
            "userId": "114251375945560531761"
          }
        }
      },
      "cell_type": "code",
      "source": [
        "# Train model# Train  \n",
        "for i in tqdm(range(1000)):\n",
        "    batch = mnist.train.next_batch(100)\n",
        "    if i%200 == 0:\n",
        "        train_accuracy = accuracy.eval(feed_dict={x:batch[0], y_: batch[1]})  #t.eval() is a shortcut for calling tf.get_default_session().run(t)\n",
        "        print(\"Epoch %d, training accuracy %g\"%(i, train_accuracy))\n",
        "\n",
        "    train_step.run(feed_dict={x: batch[0], y_: batch[1]})   #op.run() is a shortcut for calling tf.get_default_session().run(op)"
      ],
      "execution_count": 17,
      "outputs": [
        {
          "output_type": "stream",
          "text": [
            "  1%|          | 7/1000 [00:00<02:18,  7.19it/s]"
          ],
          "name": "stderr"
        },
        {
          "output_type": "stream",
          "text": [
            "Epoch 0, training accuracy 0.14\n"
          ],
          "name": "stdout"
        },
        {
          "output_type": "stream",
          "text": [
            " 21%|██        | 210/1000 [00:03<00:14, 55.46it/s]"
          ],
          "name": "stderr"
        },
        {
          "output_type": "stream",
          "text": [
            "Epoch 200, training accuracy 0.87\n"
          ],
          "name": "stdout"
        },
        {
          "output_type": "stream",
          "text": [
            " 41%|████      | 410/1000 [00:06<00:09, 63.05it/s]"
          ],
          "name": "stderr"
        },
        {
          "output_type": "stream",
          "text": [
            "Epoch 400, training accuracy 0.95\n"
          ],
          "name": "stdout"
        },
        {
          "output_type": "stream",
          "text": [
            " 61%|██████    | 610/1000 [00:09<00:05, 65.09it/s]"
          ],
          "name": "stderr"
        },
        {
          "output_type": "stream",
          "text": [
            "Epoch 600, training accuracy 0.95\n"
          ],
          "name": "stdout"
        },
        {
          "output_type": "stream",
          "text": [
            " 81%|████████  | 810/1000 [00:12<00:02, 66.96it/s]"
          ],
          "name": "stderr"
        },
        {
          "output_type": "stream",
          "text": [
            "Epoch 800, training accuracy 0.96\n"
          ],
          "name": "stdout"
        },
        {
          "output_type": "stream",
          "text": [
            "100%|██████████| 1000/1000 [00:14<00:00, 68.03it/s]\n"
          ],
          "name": "stderr"
        }
      ]
    },
    {
      "metadata": {
        "id": "jbbMOvBFyAGm",
        "colab_type": "code",
        "colab": {
          "autoexec": {
            "startup": false,
            "wait_interval": 0
          },
          "base_uri": "https://localhost:8080/",
          "height": 70
        },
        "outputId": "7bec7f9d-3f79-4d32-a8e7-5df7c6da7838",
        "executionInfo": {
          "status": "ok",
          "timestamp": 1531851691409,
          "user_tz": -330,
          "elapsed": 881,
          "user": {
            "displayName": "Ankur Bhatia",
            "photoUrl": "//lh5.googleusercontent.com/-jbba_wvMXjo/AAAAAAAAAAI/AAAAAAAAAjg/s0jV9VTrHmI/s50-c-k-no/photo.jpg",
            "userId": "114251375945560531761"
          }
        }
      },
      "cell_type": "code",
      "source": [
        "print(train_accuracy)\n",
        "print((mnist.test.labels[:,2]))\n",
        "#Save model\n",
        "saver = tf.train.Saver()\n",
        "saver.save(sess, \"./classifier\")"
      ],
      "execution_count": 18,
      "outputs": [
        {
          "output_type": "stream",
          "text": [
            "0.96\n",
            "[0. 1. 0. ... 0. 0. 0.]\n"
          ],
          "name": "stdout"
        },
        {
          "output_type": "execute_result",
          "data": {
            "text/plain": [
              "'./classifier'"
            ]
          },
          "metadata": {
            "tags": []
          },
          "execution_count": 18
        }
      ]
    },
    {
      "metadata": {
        "id": "dAKZdAb4yoc8",
        "colab_type": "code",
        "colab": {
          "autoexec": {
            "startup": false,
            "wait_interval": 0
          },
          "base_uri": "https://localhost:8080/",
          "height": 124
        },
        "outputId": "2875fe67-33f8-4a75-d0d2-3f9566185fcc",
        "executionInfo": {
          "status": "ok",
          "timestamp": 1531851695670,
          "user_tz": -330,
          "elapsed": 828,
          "user": {
            "displayName": "Ankur Bhatia",
            "photoUrl": "//lh5.googleusercontent.com/-jbba_wvMXjo/AAAAAAAAAAI/AAAAAAAAAjg/s0jV9VTrHmI/s50-c-k-no/photo.jpg",
            "userId": "114251375945560531761"
          }
        }
      },
      "cell_type": "code",
      "source": [
        "# Test model# Test \n",
        "for i in tqdm(range(1000)):\n",
        "    batch = mnist.test.next_batch(100)\n",
        "    if i%200 == 0:\n",
        "        test_accuracy = accuracy.eval(feed_dict={x:batch[0], y_: batch[1]})  #t.eval() is a shortcut for calling tf.get_default_session().run(t)\n",
        "        print(\"Epoch %d, test accuracy %g\"%(i, test_accuracy))"
      ],
      "execution_count": 19,
      "outputs": [
        {
          "output_type": "stream",
          "text": [
            "100%|██████████| 1000/1000 [00:00<00:00, 5013.90it/s]"
          ],
          "name": "stderr"
        },
        {
          "output_type": "stream",
          "text": [
            "Epoch 0, test accuracy 0.98\n",
            "Epoch 200, test accuracy 0.97\n",
            "Epoch 400, test accuracy 1\n",
            "Epoch 600, test accuracy 0.97\n",
            "Epoch 800, test accuracy 0.96\n"
          ],
          "name": "stdout"
        },
        {
          "output_type": "stream",
          "text": [
            "\n"
          ],
          "name": "stderr"
        }
      ]
    },
    {
      "metadata": {
        "id": "6gMG3onV3OOe",
        "colab_type": "code",
        "colab": {
          "autoexec": {
            "startup": false,
            "wait_interval": 0
          },
          "base_uri": "https://localhost:8080/",
          "height": 35
        },
        "outputId": "46165262-bf1c-4741-8d0c-dcccd7c2ef82",
        "executionInfo": {
          "status": "ok",
          "timestamp": 1531851700829,
          "user_tz": -330,
          "elapsed": 902,
          "user": {
            "displayName": "Ankur Bhatia",
            "photoUrl": "//lh5.googleusercontent.com/-jbba_wvMXjo/AAAAAAAAAAI/AAAAAAAAAjg/s0jV9VTrHmI/s50-c-k-no/photo.jpg",
            "userId": "114251375945560531761"
          }
        }
      },
      "cell_type": "code",
      "source": [
        "print(test_accuracy)"
      ],
      "execution_count": 20,
      "outputs": [
        {
          "output_type": "stream",
          "text": [
            "0.96\n"
          ],
          "name": "stdout"
        }
      ]
    },
    {
      "metadata": {
        "id": "kLcX31WVdUkh",
        "colab_type": "code",
        "colab": {
          "autoexec": {
            "startup": false,
            "wait_interval": 0
          }
        }
      },
      "cell_type": "code",
      "source": [
        "sess.close()"
      ],
      "execution_count": 0,
      "outputs": []
    }
  ]
}